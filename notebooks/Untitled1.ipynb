{
 "cells": [
  {
   "cell_type": "code",
   "execution_count": 1,
   "metadata": {},
   "outputs": [
    {
     "name": "stdout",
     "output_type": "stream",
     "text": [
      "['/home/m/Mert.Kurttutan/Academia/Codes/Physics/Projects/qh_fm_01/notebooks', '/project/theorie/s/Sam.Mardazad/Group/build/avx/ext_pypdir', '', '/software/opt/bionic/x86_64/python/3.7-2019.07/lib/python3.7/site-packages', '/software/opt/bionic/x86_64/python/3.7-2019.07/lib/python37.zip', '/software/opt/bionic/x86_64/python/3.7-2019.07/lib/python3.7', '/software/opt/bionic/x86_64/python/3.7-2019.07/lib/python3.7/lib-dynload', '/software/opt/bionic/x86_64/python/3.7-2019.07/lib/python3.7/site-packages/IPython/extensions', '/home/m/Mert.Kurttutan/.ipython', '/home/m/Mert.Kurttutan/Academia/Codes/Physics/Projects/qh_fm_01/codes']\n"
     ]
    }
   ],
   "source": [
    "import pyten as ptn\n",
    "import numpy as np\n",
    "import sys, csv, os, traceback\n",
    "import matplotlib.pyplot as plt\n",
    "pp=os.path.dirname(os.getcwd())\n",
    "#sys.path.append(os.path.abspath(os.path.dirname(\"../codes/src\")))          #used this, be careful\n",
    "sys.path.append(os.path.abspath(os.path.dirname(pp + \"/codes/src\")))          #used this, be careful\n",
    "print(sys.path)\n",
    "from decimal import Decimal\n",
    "from src import helpers, utils, DMRG"
   ]
  },
  {
   "cell_type": "code",
   "execution_count": 2,
   "metadata": {},
   "outputs": [],
   "source": [
    "def load_energies(Lx, Ly, tar_loc):\n",
    "    '''\n",
    "    Lx: The length of the system along x-direction\n",
    "    Ly: The length in y-direction\n",
    "    tar_loc: where to look for the .dat files\n",
    "\n",
    "    returns: an array of energy values for each particle filling, magnetic filling and spin polarization\n",
    "    This is to be used when plottin phase diagram\n",
    "    '''\n",
    "    with open(tar_loc, 'r') as f:\n",
    "        last_line = f.readlines()[-1]\n",
    "        \n",
    "    last_line_list = last_line.split(',')\n",
    "    idx = 10 if params.pin else 9\n",
    "\n",
    "    energy = last_line_list[idx]\n",
    "    return energy\n"
   ]
  },
  {
   "cell_type": "code",
   "execution_count": 3,
   "metadata": {
    "scrolled": true
   },
   "outputs": [
    {
     "data": {
      "text/plain": [
       "[[-0.4718905154568358, 20.0, 0.16, 0.0],\n",
       " [-0.6344264530961908, 20.0, 0.22, 0.0],\n",
       " [-0.530875805539401, 20.0, 0.18, 9.0],\n",
       " [-0.47220710296882557, 20.0, 0.16, 8.0],\n",
       " [-0.6508885840035694, 20.0, 0.24, 12.0],\n",
       " [-0.6386199719750522, 20.0, 0.22, 0.0],\n",
       " [-0.6234016306296144, 20.0, 0.22, 11.0],\n",
       " [-0.5301288101539398, 20.0, 0.18, 0.0],\n",
       " [-0.530302995819896, 20.0, 0.18, 0.0],\n",
       " [-0.530534933900016, 20.0, 0.18, 9.0],\n",
       " [-0.681518887135794, 20.0, 0.24, 0.0],\n",
       " [-0.47232838181715275, 20.0, 0.16, 8.0],\n",
       " [-0.4721837323134328, 20.0, 0.16, 0.0],\n",
       " [-0.6250645337984753, 20.0, 0.22, 11.0],\n",
       " [-0.6511830801286306, 20.0, 0.22, 11.0],\n",
       " [-0.6841797568484885, 20.0, 0.24, 0.0],\n",
       " [-0.5306813328936858, 20.0, 0.18, 9.0],\n",
       " [-0.4722474783771964, 20.0, 0.16, 8.0],\n",
       " [-0.6352344808038317, 20.0, 0.22, 0.0],\n",
       " [-0.6468953202082595, 20.0, 0.24, 12.0],\n",
       " [-0.4721152129971254, 20.0, 0.16, 0.0],\n",
       " [-0.5304461382880141, 20.0, 0.18, 0.0],\n",
       " [-0.7059828468420037, 20.0, 0.24, 0.0],\n",
       " [-0.6276080957715979, 20.0, 0.22, 11.0],\n",
       " [-0.6830280667681126, 20.0, 0.24, 0.0],\n",
       " [-0.6466228699980641, 20.0, 0.24, 12.0],\n",
       " [-0.4722027442059957, 20.0, 0.16, 8.0],\n",
       " [-0.4722127809521808, 20.0, 0.16, 8.0],\n",
       " [-0.5852287144675277, 20.0, 0.2, 0.0],\n",
       " [-0.6744714858070033, 20.0, 0.24, 12.0],\n",
       " [-0.6591841082845521, 20.0, 0.22, 0.0],\n",
       " [-0.5305139395311528, 20.0, 0.18, 0.0],\n",
       " [-0.6365692314102502, 20.0, 0.22, 0.0],\n",
       " [-0.6483354844465454, 20.0, 0.24, 12.0],\n",
       " [-0.47196828264756363, 20.0, 0.16, 0.0],\n",
       " [-0.4718688095108097, 20.0, 0.16, 0.0],\n",
       " [-0.5858761243951192, 20.0, 0.2, 10.0],\n",
       " [-0.6813465114276904, 20.0, 0.24, 0.0],\n",
       " [-0.5302277375401104, 20.0, 0.18, 0.0],\n",
       " [-0.5305406958785281, 20.0, 0.18, 9.0],\n",
       " [-0.5305305309876567, 20.0, 0.18, 9.0],\n",
       " [-0.6236564146960197, 20.0, 0.22, 11.0]]"
      ]
     },
     "execution_count": 3,
     "metadata": {},
     "output_type": "execute_result"
    }
   ],
   "source": [
    "file_name = \"/home/m/Mert.Kurttutan/Academia/Codes/Physics/Projects/qh_fm_01/codes/data\"\n",
    "p = helpers.params();\n",
    "p.target = \"../codes\" + \"/data/dat-files-03-DMRG-table/\"                 #the location dat files are stored\n",
    "p.Lx=21; p.Ly=5; p.Nphi=(p.Lx-1)*p.Ly*0.2; p.U=8.; p.N=int(p.Nphi//2*2)+0; p.S=p.N/2.*0;\n",
    "p.pin=True\n",
    "p.g=0.0\n",
    "helpers.load_energies(p, file_name)"
   ]
  },
  {
   "cell_type": "code",
   "execution_count": null,
   "metadata": {},
   "outputs": [],
   "source": []
  }
 ],
 "metadata": {
  "kernelspec": {
   "display_name": "Python 3",
   "language": "python",
   "name": "python3"
  },
  "language_info": {
   "codemirror_mode": {
    "name": "ipython",
    "version": 3
   },
   "file_extension": ".py",
   "mimetype": "text/x-python",
   "name": "python",
   "nbconvert_exporter": "python",
   "pygments_lexer": "ipython3",
   "version": "3.7.3"
  }
 },
 "nbformat": 4,
 "nbformat_minor": 2
}
