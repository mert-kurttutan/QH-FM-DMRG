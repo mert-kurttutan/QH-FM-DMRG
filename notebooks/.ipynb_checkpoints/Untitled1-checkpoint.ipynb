{
 "cells": [
  {
   "cell_type": "code",
   "execution_count": 1,
   "metadata": {},
   "outputs": [
    {
     "name": "stdout",
     "output_type": "stream",
     "text": [
      "['/home/m/Mert.Kurttutan/Academia/Codes/Physics/Projects/qh_fm_01/notebooks', '/project/theorie/s/Sam.Mardazad/Group/build/avx/ext_pypdir', '', '/software/opt/bionic/x86_64/python/3.7-2019.07/lib/python3.7/site-packages', '/software/opt/bionic/x86_64/python/3.7-2019.07/lib/python37.zip', '/software/opt/bionic/x86_64/python/3.7-2019.07/lib/python3.7', '/software/opt/bionic/x86_64/python/3.7-2019.07/lib/python3.7/lib-dynload', '/software/opt/bionic/x86_64/python/3.7-2019.07/lib/python3.7/site-packages/IPython/extensions', '/home/m/Mert.Kurttutan/.ipython', '/home/m/Mert.Kurttutan/Academia/Codes/Physics/Projects/qh_fm_01/codes']\n"
     ]
    }
   ],
   "source": [
    "import pyten as ptn\n",
    "import numpy as np\n",
    "import sys, csv, os, traceback\n",
    "import matplotlib.pyplot as plt\n",
    "pp=os.path.dirname(os.getcwd())\n",
    "#sys.path.append(os.path.abspath(os.path.dirname(\"../codes/src\")))          #used this, be careful\n",
    "sys.path.append(os.path.abspath(os.path.dirname(pp + \"/codes/src\")))          #used this, be careful\n",
    "print(sys.path)\n",
    "from decimal import Decimal\n",
    "from src import helpers, utils, DMRG"
   ]
  },
  {
   "cell_type": "code",
   "execution_count": 2,
   "metadata": {},
   "outputs": [],
   "source": [
    "def load_energies(Lx, Ly, tar_loc):\n",
    "    '''\n",
    "    Lx: The length of the system along x-direction\n",
    "    Ly: The length in y-direction\n",
    "    tar_loc: where to look for the .dat files\n",
    "\n",
    "    returns: an array of energy values for each particle filling, magnetic filling and spin polarization\n",
    "    This is to be used when plottin phase diagram\n",
    "    '''\n",
    "    with open(tar_loc, 'r') as f:\n",
    "        last_line = f.readlines()[-1]\n",
    "        \n",
    "    last_line_list = last_line.split(',')\n",
    "    idx = 10 if params.pin else 9\n",
    "\n",
    "    energy = last_line_list[idx]\n",
    "    return energy\n"
   ]
  },
  {
   "cell_type": "code",
   "execution_count": 6,
   "metadata": {},
   "outputs": [
    {
     "data": {
      "text/plain": [
       "'-37.32970912553493'"
      ]
     },
     "execution_count": 6,
     "metadata": {},
     "output_type": "execute_result"
    }
   ],
   "source": [
    "file_name = \"/home/m/Mert.Kurttutan/Academia/Codes/Physics/Projects/qh_fm_01/codes/data\"\n",
    "p = helpers.params();\n",
    "p.target = \"../codes\" + \"/data/dat-files-03-DMRG-table/\"                 #the location dat files are stored\n",
    "p.Lx=36; p.Ly=5; p.Nphi=(p.Lx-1)*p.Ly*0.2; p.U=8.; p.N=int(p.Nphi//2*2)+0; p.S=p.N/2.*0;\n",
    "p.pin=True\n",
    "p.g=0.0\n",
    "helpers.load_energies(p, file_name)"
   ]
  },
  {
   "cell_type": "code",
   "execution_count": null,
   "metadata": {},
   "outputs": [],
   "source": []
  }
 ],
 "metadata": {
  "kernelspec": {
   "display_name": "Python 3",
   "language": "python",
   "name": "python3"
  },
  "language_info": {
   "codemirror_mode": {
    "name": "ipython",
    "version": 3
   },
   "file_extension": ".py",
   "mimetype": "text/x-python",
   "name": "python",
   "nbconvert_exporter": "python",
   "pygments_lexer": "ipython3",
   "version": "3.7.3"
  }
 },
 "nbformat": 4,
 "nbformat_minor": 2
}
